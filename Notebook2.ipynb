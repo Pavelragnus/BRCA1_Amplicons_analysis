{
 "cells": [
  {
   "cell_type": "code",
   "execution_count": 12,
   "id": "b037d884-c3dc-461f-ad8b-23493d005c34",
   "metadata": {},
   "outputs": [],
   "source": [
    "import pandas as pd"
   ]
  },
  {
   "cell_type": "markdown",
   "id": "1032f4d1-4c98-409a-b01b-73d690255270",
   "metadata": {},
   "source": [
    "# Создадим файл для оценки пересечения с ампликонами с BRCA1"
   ]
  },
  {
   "cell_type": "code",
   "execution_count": 3,
   "id": "d56a79fc-a2d0-4971-b02d-d775622d6a57",
   "metadata": {},
   "outputs": [
    {
     "name": "stdout",
     "output_type": "stream",
     "text": [
      "     0         1         2               3  4       5     6         7   \\\n",
      "0  chr1  47123873  47123989  AMPL7172749346  .  Pool=1  chr1  47100710   \n",
      "1  chr1  47123873  47123989  AMPL7172749346  .  Pool=1  chr1  47100710   \n",
      "2  chr1  47123873  47123989  AMPL7172749346  .  Pool=1  chr1  47100710   \n",
      "3  chr1  47123873  47123989  AMPL7172749346  .  Pool=1  chr1  47100710   \n",
      "4  chr1  54395615  54395735  AMPL7172749160  .  Pool=2  chr1  54387233   \n",
      "\n",
      "         8             9   10 11        12        13  14  15  \\\n",
      "0  47131550  NM_001256418   0  -  47101447  47123834   0  10   \n",
      "1  47131550  NM_001243728   0  -  47101447  47131320   0   9   \n",
      "2  47134099     NM_022745   0  -  47101447  47134063   0   9   \n",
      "3  47134099  NM_001042546   0  -  47101447  47134063   0   7   \n",
      "4  54411496     NR_133633   0  -  54411496  54411496   0   7   \n",
      "\n",
      "                                   16  \\\n",
      "0  932,108,96,48,51,63,51,91,109,232,   \n",
      "1     932,108,96,48,51,63,51,109,232,   \n",
      "2     932,108,96,48,51,63,51,109,371,   \n",
      "3            932,48,51,63,51,109,371,   \n",
      "4           207,44,69,98,107,113,269,   \n",
      "\n",
      "                                                  17  \n",
      "0  0,8155,10122,17542,18778,23088,23648,28794,302...  \n",
      "1  0,8155,10122,17542,18778,23088,23648,30217,30608,  \n",
      "2  0,8155,10122,17542,18778,23088,23648,30217,33018,  \n",
      "3             0,17542,18778,23088,23648,30217,33018,  \n",
      "4                 0,2343,6811,8285,8478,18424,23994,  \n"
     ]
    }
   ],
   "source": [
    "import pandas as pd\n",
    "\n",
    "# Load the intersected BED file\n",
    "intersected_bed_path = 'intersected.bed'\n",
    "intersected_df = pd.read_csv(intersected_bed_path, sep='\\t', header=None)\n",
    "\n",
    "# Display the first few rows\n",
    "print(intersected_df.head())\n",
    "\n",
    "\n"
   ]
  },
  {
   "cell_type": "code",
   "execution_count": 8,
   "id": "d73abb65-7718-4053-9759-80be04cb2655",
   "metadata": {},
   "outputs": [
    {
     "name": "stdout",
     "output_type": "stream",
     "text": [
      "     amplicon_chrom  amplicon_start  amplicon_end   amplicon_name  gene_name\n",
      "1173          chr17        41196352      41196474  AMPL7170332747  NM_007294\n",
      "1179          chr17        41197497      41197593  AMPL7173658617  NM_007294\n",
      "1185          chr17        41197683      41197817  AMPL7170318453  NM_007294\n",
      "1191          chr17        41197776      41197895  AMPL7170180149  NM_007294\n",
      "1197          chr17        41199642      41199765  AMPL7174581697  NM_007294\n",
      "...             ...             ...           ...             ...        ...\n",
      "1611          chr17        41267641      41267767  AMPL7174425353  NM_007294\n",
      "1617          chr17        41267746      41267863  AMPL7153550551  NM_007294\n",
      "1623          chr17        41276006      41276121  AMPL7170318893  NM_007294\n",
      "1629          chr17        41276130      41276249  AMPL7174429428  NM_007294\n",
      "1634          chr17        41277292      41277400  AMPL7173738635  NM_007294\n",
      "\n",
      "[78 rows x 5 columns]\n"
     ]
    }
   ],
   "source": [
    "# Assuming intersected BED file has the following columns:\n",
    "# amplicon_chrom, amplicon_start, amplicon_end, amplicon_name, ..., exon_chrom, exon_start, exon_end, exon_name, gene_name, ...\n",
    "\n",
    "# Extract relevant columns for amplicons and their corresponding genes\n",
    "amplicon_gene_df = intersected_df[[0, 1, 2, 3, 9]].drop_duplicates()\n",
    "\n",
    "# Rename columns for clarity\n",
    "amplicon_gene_df.columns = ['amplicon_chrom', 'amplicon_start', 'amplicon_end', 'amplicon_name', 'gene_name']\n",
    "\n",
    "# Filter for BRCA1 amplicons\n",
    "brca1_amplicons_df = amplicon_gene_df[amplicon_gene_df['gene_name'].str.contains('NM_007294')]\n",
    "\n",
    "# Save the filtered amplicons to a new BED file\n",
    "brca1_amplicons_bed_path = 'brca1_amplicons.bed'\n",
    "brca1_amplicons_df.to_csv(brca1_amplicons_bed_path, sep='\\t', header=False, index=False)\n",
    "\n",
    "# Display the BRCA1 amplicons\n",
    "print(brca1_amplicons_df)"
   ]
  },
  {
   "cell_type": "markdown",
   "id": "07ce5e92-4937-46ea-933a-107daf128af1",
   "metadata": {},
   "source": [
    "# Оценим покрытие на ампликон"
   ]
  },
  {
   "cell_type": "code",
   "execution_count": 102,
   "id": "81b1588d-12cf-4660-bb90-b2fe1618b69d",
   "metadata": {},
   "outputs": [],
   "source": [
    "coverage_data = pd.read_csv('S1/S1_cover_mean.bedgraph', index_col=False, sep='\\t', header=None,\n",
    "                            names=['chrom', 'start', 'end', 'amplicon', 'gene','mean_coverage'])\n"
   ]
  },
  {
   "cell_type": "code",
   "execution_count": 104,
   "id": "0a63f999-fb48-465f-a086-fde4295eade8",
   "metadata": {},
   "outputs": [
    {
     "name": "stdout",
     "output_type": "stream",
     "text": [
      "          amplicon  average_coverage\n",
      "0   AMPL7170332747        711.360657\n",
      "1   AMPL7173658617        240.916672\n",
      "2   AMPL7170318453        426.432831\n",
      "3   AMPL7170180149        513.361328\n",
      "4   AMPL7174581697        730.691040\n",
      "..             ...               ...\n",
      "73  AMPL7174425353        449.523804\n",
      "74  AMPL7153550551        800.940185\n",
      "75  AMPL7170318893        324.886963\n",
      "76  AMPL7174429428         94.495796\n",
      "77  AMPL7173738635        244.157410\n",
      "\n",
      "[78 rows x 2 columns]\n"
     ]
    }
   ],
   "source": [
    "\n",
    "# Расчет среднего покрытия для каждого региона\n",
    "coverage_data['average_coverage'] = coverage_data['mean_coverage']\n",
    "\n",
    "# Сохранение результата в файл\n",
    "coverage_data.to_csv('S1/S1_brca1_average_coverage.txt', sep='\\t', index=False)\n",
    "\n",
    "print(coverage_data[['amplicon', 'average_coverage']])\n"
   ]
  },
  {
   "cell_type": "code",
   "execution_count": 106,
   "id": "004d0d95-46c0-4c2f-9ef9-7669322feb90",
   "metadata": {},
   "outputs": [
    {
     "data": {
      "image/png": "[encoded data removed]",
      "text/plain": [
       "<Figure size 640x480 with 1 Axes>"
      ]
     },
     "metadata": {},
     "output_type": "display_data"
    }
   ],
   "source": [
    "import matplotlib.pyplot as plt\n",
    "plt.bar(coverage_data['amplicon'], coverage_data['average_coverage'])\n",
    "plt.xlabel('Amplicon')\n",
    "plt.ylabel('Coverage')\n",
    "plt.title('Coverage per Amplicon S1')\n",
    "plt.show()\n"
   ]
  },
  {
   "cell_type": "code",
   "execution_count": 96,
   "id": "88544370-476d-4f49-bdb3-44c4fce7853b",
   "metadata": {},
   "outputs": [
    {
     "data": {
      "text/html": [
       "<div>\n",
       "<style scoped>\n",
       "    .dataframe tbody tr th:only-of-type {\n",
       "        vertical-align: middle;\n",
       "    }\n",
       "\n",
       "    .dataframe tbody tr th {\n",
       "        vertical-align: top;\n",
       "    }\n",
       "\n",
       "    .dataframe thead th {\n",
       "        text-align: right;\n",
       "    }\n",
       "</style>\n",
       "<table border=\"1\" class=\"dataframe\">\n",
       "  <thead>\n",
       "    <tr style=\"text-align: right;\">\n",
       "      <th></th>\n",
       "      <th>chrom</th>\n",
       "      <th>start</th>\n",
       "      <th>end</th>\n",
       "      <th>amplicon</th>\n",
       "      <th>gene</th>\n",
       "      <th>mean_coverage</th>\n",
       "      <th>average_coverage</th>\n",
       "    </tr>\n",
       "  </thead>\n",
       "  <tbody>\n",
       "    <tr>\n",
       "      <th>76</th>\n",
       "      <td>chr17</td>\n",
       "      <td>41276130</td>\n",
       "      <td>41276249</td>\n",
       "      <td>AMPL7174429428</td>\n",
       "      <td>NM_007294</td>\n",
       "      <td>94.495796</td>\n",
       "      <td>94.495796</td>\n",
       "    </tr>\n",
       "  </tbody>\n",
       "</table>\n",
       "</div>"
      ],
      "text/plain": [
       "    chrom     start       end        amplicon       gene  mean_coverage  \\\n",
       "76  chr17  41276130  41276249  AMPL7174429428  NM_007294      94.495796   \n",
       "\n",
       "    average_coverage  \n",
       "76         94.495796  "
      ]
     },
     "execution_count": 96,
     "metadata": {},
     "output_type": "execute_result"
    }
   ],
   "source": [
    "coverage_data[coverage_data['average_coverage']<100]"
   ]
  },
  {
   "cell_type": "code",
   "execution_count": 98,
   "id": "4104279b-ca95-42eb-8bac-cca03da27991",
   "metadata": {},
   "outputs": [
    {
     "data": {
      "text/plain": [
       "count      78.000000\n",
       "mean      536.701035\n",
       "std       200.765180\n",
       "min        94.495796\n",
       "25%       407.393944\n",
       "50%       541.063171\n",
       "75%       659.476105\n",
       "max      1029.205322\n",
       "Name: average_coverage, dtype: float64"
      ]
     },
     "execution_count": 98,
     "metadata": {},
     "output_type": "execute_result"
    }
   ],
   "source": [
    "coverage_data['average_coverage'].describe()"
   ]
  },
  {
   "cell_type": "code",
   "execution_count": 100,
   "id": "a3e422a2-3138-4978-89aa-06edf665c14b",
   "metadata": {},
   "outputs": [
    {
     "data": {
      "text/plain": [
       "536.7010351307692"
      ]
     },
     "execution_count": 100,
     "metadata": {},
     "output_type": "execute_result"
    }
   ],
   "source": [
    "coverage_data['average_coverage'].mean()"
   ]
  },
  {
   "cell_type": "code",
   "execution_count": 108,
   "id": "aaeecf0c-e848-4715-ace7-ccadf1253c67",
   "metadata": {},
   "outputs": [
    {
     "data": {
      "image/png": "[encoded data removed]",
      "text/plain": [
       "<Figure size 640x480 with 1 Axes>"
      ]
     },
     "metadata": {},
     "output_type": "display_data"
    }
   ],
   "source": [
    "coverage_data = pd.read_csv('S12/S12_cover_mean.bedgraph', index_col=False, sep='\\t', header=None,\n",
    "                            names=['chrom', 'start', 'end', 'amplicon', 'gene','mean_coverage'])\n",
    "coverage_data['average_coverage'] = coverage_data['mean_coverage']\n",
    "\n",
    "\n",
    "# Сохранение результата в файл\n",
    "coverage_data.to_csv('S12/S12_brca1_average_coverage.txt', sep='\\t', index=False)\n",
    "import matplotlib.pyplot as plt\n",
    "plt.bar(coverage_data['amplicon'], coverage_data['average_coverage'])\n",
    "plt.xlabel('Amplicon')\n",
    "plt.ylabel('Coverage')\n",
    "plt.title('Coverage per Amplicon S12')\n",
    "plt.show()"
   ]
  },
  {
   "cell_type": "code",
   "execution_count": 67,
   "id": "fda63482-928a-4eb5-9df6-bfc2d144e4d0",
   "metadata": {},
   "outputs": [
    {
     "data": {
      "text/html": [
       "<div>\n",
       "<style scoped>\n",
       "    .dataframe tbody tr th:only-of-type {\n",
       "        vertical-align: middle;\n",
       "    }\n",
       "\n",
       "    .dataframe tbody tr th {\n",
       "        vertical-align: top;\n",
       "    }\n",
       "\n",
       "    .dataframe thead th {\n",
       "        text-align: right;\n",
       "    }\n",
       "</style>\n",
       "<table border=\"1\" class=\"dataframe\">\n",
       "  <thead>\n",
       "    <tr style=\"text-align: right;\">\n",
       "      <th></th>\n",
       "      <th>chrom</th>\n",
       "      <th>start</th>\n",
       "      <th>end</th>\n",
       "      <th>amplicon</th>\n",
       "      <th>gene</th>\n",
       "      <th>mean_coverage</th>\n",
       "      <th>average_coverage</th>\n",
       "    </tr>\n",
       "  </thead>\n",
       "  <tbody>\n",
       "    <tr>\n",
       "      <th>76</th>\n",
       "      <td>chr17</td>\n",
       "      <td>41276130</td>\n",
       "      <td>41276249</td>\n",
       "      <td>AMPL7174429428</td>\n",
       "      <td>NM_007294</td>\n",
       "      <td>23.319328</td>\n",
       "      <td>23.319328</td>\n",
       "    </tr>\n",
       "  </tbody>\n",
       "</table>\n",
       "</div>"
      ],
      "text/plain": [
       "    chrom     start       end        amplicon       gene  mean_coverage  \\\n",
       "76  chr17  41276130  41276249  AMPL7174429428  NM_007294      23.319328   \n",
       "\n",
       "    average_coverage  \n",
       "76         23.319328  "
      ]
     },
     "execution_count": 67,
     "metadata": {},
     "output_type": "execute_result"
    }
   ],
   "source": [
    "coverage_data[coverage_data['average_coverage']<100]"
   ]
  },
  {
   "cell_type": "code",
   "execution_count": 69,
   "id": "81bcf566-c084-4926-8477-09520abd5387",
   "metadata": {},
   "outputs": [
    {
     "data": {
      "text/plain": [
       "count      78.000000\n",
       "mean      773.639650\n",
       "std       256.947918\n",
       "min        23.319328\n",
       "25%       624.483963\n",
       "50%       761.322662\n",
       "75%       876.810150\n",
       "max      1564.142822\n",
       "Name: average_coverage, dtype: float64"
      ]
     },
     "execution_count": 69,
     "metadata": {},
     "output_type": "execute_result"
    }
   ],
   "source": [
    "coverage_data['average_coverage'].describe()"
   ]
  },
  {
   "cell_type": "code",
   "execution_count": 116,
   "id": "0b7d01de-6f22-4413-b6f6-f6ac8358beb1",
   "metadata": {},
   "outputs": [
    {
     "data": {
      "image/png": "[encoded data removed]",
      "text/plain": [
       "<Figure size 640x480 with 1 Axes>"
      ]
     },
     "metadata": {},
     "output_type": "display_data"
    }
   ],
   "source": [
    "coverage_data = pd.read_csv('S6/S6_cover_mean.bedgraph', index_col=False, sep='\\t', header=None,\n",
    "                            names=['chrom', 'start', 'end', 'amplicon', 'gene','mean_coverage'])\n",
    "coverage_data['average_coverage'] = coverage_data['mean_coverage']\n",
    "\n",
    "\n",
    "# Сохранение результата в файл\n",
    "coverage_data.to_csv('S6/S6_brca1_average_coverage.txt', sep='\\t', index=False)\n",
    "import matplotlib.pyplot as plt\n",
    "plt.bar(coverage_data['amplicon'], coverage_data['average_coverage'])\n",
    "plt.xlabel('Amplicon')\n",
    "plt.ylabel('Coverage')\n",
    "plt.title('Coverage per Amplicon S6')\n",
    "plt.show()"
   ]
  },
  {
   "cell_type": "code",
   "execution_count": 120,
   "id": "c991102a-b670-4f30-9cf4-e900cd8871ff",
   "metadata": {},
   "outputs": [
    {
     "name": "stdout",
     "output_type": "stream",
     "text": [
      "AMPL7170332747\n",
      "AMPL7174581697\n",
      "AMPL7175081723\n",
      "AMPL7170318872\n",
      "AMPL7170318148\n",
      "AMPL7170318684\n",
      "AMPL7173658633\n",
      "AMPL7170480030\n",
      "AMPL7174424912\n",
      "AMPL7170318098\n",
      "AMPL7158524919\n",
      "AMPL7174482705\n",
      "AMPL7173232417\n",
      "AMPL7173658658\n",
      "AMPL7170318648\n",
      "AMPL7174429428\n",
      "AMPL7173738635\n"
     ]
    }
   ],
   "source": [
    "print(*coverage_data[coverage_data['average_coverage']<100]['amplicon'].to_list(), sep = '\\n')"
   ]
  },
  {
   "cell_type": "code",
   "execution_count": 78,
   "id": "fee2e340-276b-4d10-9ef7-2659c7ff927a",
   "metadata": {},
   "outputs": [
    {
     "data": {
      "text/plain": [
       "count      78.000000\n",
       "mean      342.048584\n",
       "std       301.484998\n",
       "min         0.487395\n",
       "25%       105.395102\n",
       "50%       276.030350\n",
       "75%       446.689575\n",
       "max      1425.702515\n",
       "Name: average_coverage, dtype: float64"
      ]
     },
     "execution_count": 78,
     "metadata": {},
     "output_type": "execute_result"
    }
   ],
   "source": [
    "coverage_data['average_coverage'].describe()"
   ]
  },
  {
   "cell_type": "code",
   "execution_count": 112,
   "id": "3d9ba4e2-5de0-44f1-a872-0fb8bd736daa",
   "metadata": {},
   "outputs": [
    {
     "data": {
      "image/png": "[encoded data removed]",
      "text/plain": [
       "<Figure size 640x480 with 1 Axes>"
      ]
     },
     "metadata": {},
     "output_type": "display_data"
    }
   ],
   "source": [
    "coverage_data = pd.read_csv('S8/S8_cover_mean.bedgraph', index_col=False, sep='\\t', header=None,\n",
    "                            names=['chrom', 'start', 'end', 'amplicon', 'gene','mean_coverage'])\n",
    "coverage_data['average_coverage'] = coverage_data['mean_coverage']\n",
    "\n",
    "\n",
    "# Сохранение результата в файл\n",
    "coverage_data.to_csv('S8/S8_brca1_average_coverage.txt', sep='\\t', index=False)\n",
    "import matplotlib.pyplot as plt\n",
    "plt.bar(coverage_data['amplicon'], coverage_data['average_coverage'])\n",
    "plt.xlabel('Amplicon')\n",
    "plt.ylabel('Coverage')\n",
    "plt.title('Coverage per Amplicon S8')\n",
    "plt.show()"
   ]
  },
  {
   "cell_type": "code",
   "execution_count": 82,
   "id": "cca0228d-6949-40cd-9d4e-00f96329ac6d",
   "metadata": {},
   "outputs": [
    {
     "data": {
      "text/html": [
       "<div>\n",
       "<style scoped>\n",
       "    .dataframe tbody tr th:only-of-type {\n",
       "        vertical-align: middle;\n",
       "    }\n",
       "\n",
       "    .dataframe tbody tr th {\n",
       "        vertical-align: top;\n",
       "    }\n",
       "\n",
       "    .dataframe thead th {\n",
       "        text-align: right;\n",
       "    }\n",
       "</style>\n",
       "<table border=\"1\" class=\"dataframe\">\n",
       "  <thead>\n",
       "    <tr style=\"text-align: right;\">\n",
       "      <th></th>\n",
       "      <th>chrom</th>\n",
       "      <th>start</th>\n",
       "      <th>end</th>\n",
       "      <th>amplicon</th>\n",
       "      <th>gene</th>\n",
       "      <th>mean_coverage</th>\n",
       "      <th>average_coverage</th>\n",
       "    </tr>\n",
       "  </thead>\n",
       "  <tbody>\n",
       "    <tr>\n",
       "      <th>63</th>\n",
       "      <td>chr17</td>\n",
       "      <td>41249155</td>\n",
       "      <td>41249282</td>\n",
       "      <td>AMPL7174482705</td>\n",
       "      <td>NM_007294</td>\n",
       "      <td>91.314964</td>\n",
       "      <td>91.314964</td>\n",
       "    </tr>\n",
       "  </tbody>\n",
       "</table>\n",
       "</div>"
      ],
      "text/plain": [
       "    chrom     start       end        amplicon       gene  mean_coverage  \\\n",
       "63  chr17  41249155  41249282  AMPL7174482705  NM_007294      91.314964   \n",
       "\n",
       "    average_coverage  \n",
       "63         91.314964  "
      ]
     },
     "execution_count": 82,
     "metadata": {},
     "output_type": "execute_result"
    }
   ],
   "source": [
    "coverage_data[coverage_data['average_coverage']<100]"
   ]
  },
  {
   "cell_type": "code",
   "execution_count": 84,
   "id": "6c78504b-ee9b-4118-8b75-eed3ce9fd60a",
   "metadata": {},
   "outputs": [
    {
     "data": {
      "text/plain": [
       "count     78.000000\n",
       "mean     463.713750\n",
       "std      162.614292\n",
       "min       91.314964\n",
       "25%      368.929337\n",
       "50%      446.882645\n",
       "75%      572.768509\n",
       "max      918.537659\n",
       "Name: average_coverage, dtype: float64"
      ]
     },
     "execution_count": 84,
     "metadata": {},
     "output_type": "execute_result"
    }
   ],
   "source": [
    "coverage_data['average_coverage'].describe()"
   ]
  },
  {
   "cell_type": "markdown",
   "id": "dcabea56-ebc3-455d-b0fa-80acdbe064c9",
   "metadata": {},
   "source": [
    "# Оценим покрытие на позицию"
   ]
  },
  {
   "cell_type": "code",
   "execution_count": 64,
   "id": "7ec81cce-b97c-473e-bb8a-ce041d4e87c0",
   "metadata": {},
   "outputs": [
    {
     "name": "stdout",
     "output_type": "stream",
     "text": [
      "Average coverage for BRCA1: 611.016418480336\n",
      "Positions with low coverage:\n",
      "      chrom     start       end  coverage\n",
      "121   chr17  41203022  41203031         0\n",
      "122   chr17  41203031  41203032         2\n",
      "123   chr17  41203032  41203042         4\n",
      "140   chr17  41203168  41203169         3\n",
      "141   chr17  41203169  41203216         0\n",
      "2292  chr17  41249155  41249235         0\n",
      "2293  chr17  41249235  41249236         6\n",
      "2294  chr17  41249236  41249246        13\n",
      "2315  chr17  41249369  41249384         6\n",
      "2316  chr17  41249384  41249385         3\n",
      "2530  chr17  41267641  41267658         0\n",
      "2531  chr17  41267658  41267660         1\n",
      "2532  chr17  41267660  41267670         2\n",
      "2533  chr17  41267670  41267671         5\n",
      "2534  chr17  41267671  41267680         8\n",
      "2603  chr17  41276229  41276239         6\n",
      "2604  chr17  41276239  41276241         3\n",
      "2605  chr17  41276241  41276249         0\n"
     ]
    }
   ],
   "source": [
    "import pandas as pd\n",
    "\n",
    "# Load the coverage data\n",
    "coverage_data_path = 'S1/S1_coverage_filtered.bedgraph'\n",
    "coverage_df = pd.read_csv(coverage_data_path, sep='\\t', header=None, names=['chrom', 'start', 'end', 'coverage'])\n",
    "\n",
    "\n",
    "# Calculate average coverage for BRCA1 regions\n",
    "brca1_avg_coverage = coverage_df['coverage'].mean()\n",
    "\n",
    "# Identify positions with coverage below a threshold (e.g., 50)\n",
    "low_coverage_positions = coverage_df[coverage_df['coverage'] < 50]\n",
    "\n",
    "print(f\"Average coverage for BRCA1: {brca1_avg_coverage}\")\n",
    "print(f\"Positions with low coverage:\\n{low_coverage_positions}\")\n"
   ]
  },
  {
   "cell_type": "code",
   "execution_count": 152,
   "id": "3063459e-b848-4727-b75e-f798ff718cdd",
   "metadata": {},
   "outputs": [
    {
     "name": "stdout",
     "output_type": "stream",
     "text": [
      "Average coverage for BRCA1: 848.5264293419633\n",
      "Positions with low coverage:\n",
      "      chrom     start       end  coverage\n",
      "161   chr17  41203022  41203031         0\n",
      "162   chr17  41203031  41203032         3\n",
      "163   chr17  41203032  41203037         6\n",
      "164   chr17  41203037  41203042         7\n",
      "185   chr17  41203168  41203177         2\n",
      "186   chr17  41203177  41203179         1\n",
      "187   chr17  41203179  41203216         0\n",
      "2401  chr17  41249155  41249235         0\n",
      "2402  chr17  41249235  41249236         2\n",
      "2403  chr17  41249236  41249246         4\n",
      "2430  chr17  41249369  41249384        10\n",
      "2431  chr17  41249384  41249385         5\n",
      "2686  chr17  41267641  41267670         0\n",
      "2687  chr17  41267670  41267671         2\n",
      "2688  chr17  41267671  41267680         4\n",
      "2761  chr17  41276130  41276139        32\n",
      "2762  chr17  41276139  41276140        30\n",
      "2763  chr17  41276140  41276224        28\n",
      "2764  chr17  41276224  41276225        27\n",
      "2765  chr17  41276225  41276229        14\n",
      "2766  chr17  41276229  41276239         2\n",
      "2767  chr17  41276239  41276241         1\n",
      "2768  chr17  41276241  41276249         0\n"
     ]
    }
   ],
   "source": [
    "import pandas as pd\n",
    "\n",
    "# Load the coverage data\n",
    "coverage_data_path = 'S12/S12_coverage_filtered.bedgraph'\n",
    "coverage_df = pd.read_csv(coverage_data_path, sep='\\t', header=None, names=['chrom', 'start', 'end', 'coverage'])\n",
    "\n",
    "\n",
    "# Calculate average coverage for BRCA1 regions\n",
    "brca1_avg_coverage = coverage_df['coverage'].mean()\n",
    "\n",
    "# Identify positions with coverage below a threshold (e.g., 50)\n",
    "low_coverage_positions = coverage_df[coverage_df['coverage'] < 50]\n",
    "\n",
    "print(f\"Average coverage for BRCA1: {brca1_avg_coverage}\")\n",
    "print(f\"Positions with low coverage:\\n{low_coverage_positions}\")\n"
   ]
  },
  {
   "cell_type": "code",
   "execution_count": 154,
   "id": "cc731bf1-8f39-48b0-8280-40a2c8bcaf6d",
   "metadata": {},
   "outputs": [
    {
     "name": "stdout",
     "output_type": "stream",
     "text": [
      "Average coverage for BRCA1: 486.3029779887786\n",
      "Positions with low coverage:\n",
      "      chrom     start       end  coverage\n",
      "0     chr17  41196352  41196474         6\n",
      "105   chr17  41197834  41197835        41\n",
      "106   chr17  41197835  41197837        15\n",
      "107   chr17  41197837  41197895         2\n",
      "108   chr17  41199642  41199765         8\n",
      "...     ...       ...       ...       ...\n",
      "2312  chr17  41276139  41276140         4\n",
      "2313  chr17  41276140  41276249         0\n",
      "2314  chr17  41277292  41277352         2\n",
      "2315  chr17  41277352  41277354         1\n",
      "2316  chr17  41277354  41277400         0\n",
      "\n",
      "[221 rows x 4 columns]\n"
     ]
    }
   ],
   "source": [
    "import pandas as pd\n",
    "\n",
    "# Load the coverage data\n",
    "coverage_data_path = 'S6/S6_coverage_filtered.bedgraph'\n",
    "coverage_df = pd.read_csv(coverage_data_path, sep='\\t', header=None, names=['chrom', 'start', 'end', 'coverage'])\n",
    "\n",
    "\n",
    "# Calculate average coverage for BRCA1 regions\n",
    "brca1_avg_coverage = coverage_df['coverage'].mean()\n",
    "\n",
    "# Identify positions with coverage below a threshold (e.g., 50)\n",
    "low_coverage_positions = coverage_df[coverage_df['coverage'] < 50]\n",
    "\n",
    "print(f\"Average coverage for BRCA1: {brca1_avg_coverage}\")\n",
    "print(f\"Positions with low coverage:\\n{low_coverage_positions}\")\n"
   ]
  },
  {
   "cell_type": "code",
   "execution_count": 156,
   "id": "2d5de64d-f84e-4f70-a331-e4a37b122b6a",
   "metadata": {},
   "outputs": [
    {
     "name": "stdout",
     "output_type": "stream",
     "text": [
      "Average coverage for BRCA1: 500.19984139571767\n",
      "Positions with low coverage:\n",
      "      chrom     start       end  coverage\n",
      "118   chr17  41203022  41203031         0\n",
      "119   chr17  41203031  41203032         1\n",
      "120   chr17  41203032  41203042         2\n",
      "135   chr17  41203168  41203216         0\n",
      "2173  chr17  41249155  41249224         0\n",
      "2174  chr17  41249224  41249225         1\n",
      "2175  chr17  41249225  41249235         2\n",
      "2176  chr17  41249235  41249236         8\n",
      "2177  chr17  41249236  41249246        16\n",
      "2209  chr17  41249369  41249384         6\n",
      "2210  chr17  41249384  41249385         3\n",
      "2445  chr17  41267641  41267670         0\n",
      "2446  chr17  41267670  41267671         8\n",
      "2447  chr17  41267671  41267672        16\n",
      "2448  chr17  41267672  41267680        18\n",
      "2510  chr17  41276229  41276239         6\n",
      "2511  chr17  41276239  41276241         3\n",
      "2512  chr17  41276241  41276249         0\n"
     ]
    }
   ],
   "source": [
    "import pandas as pd\n",
    "\n",
    "# Load the coverage data\n",
    "coverage_data_path = 'S8/S8_coverage_filtered.bedgraph'\n",
    "coverage_df = pd.read_csv(coverage_data_path, sep='\\t', header=None, names=['chrom', 'start', 'end', 'coverage'])\n",
    "\n",
    "\n",
    "# Calculate average coverage for BRCA1 regions\n",
    "brca1_avg_coverage = coverage_df['coverage'].mean()\n",
    "\n",
    "# Identify positions with coverage below a threshold (e.g., 50)\n",
    "low_coverage_positions = coverage_df[coverage_df['coverage'] < 50]\n",
    "\n",
    "print(f\"Average coverage for BRCA1: {brca1_avg_coverage}\")\n",
    "print(f\"Positions with low coverage:\\n{low_coverage_positions}\")\n"
   ]
  },
  {
   "cell_type": "code",
   "execution_count": null,
   "id": "c84fbbb3-5f9b-460c-8ee8-0cd992cd400c",
   "metadata": {},
   "outputs": [],
   "source": []
  }
 ],
 "metadata": {
  "kernelspec": {
   "display_name": "Python 3 (ipykernel)",
   "language": "python",
   "name": "python3"
  },
  "language_info": {
   "codemirror_mode": {
    "name": "ipython",
    "version": 3
   },
   "file_extension": ".py",
   "mimetype": "text/x-python",
   "name": "python",
   "nbconvert_exporter": "python",
   "pygments_lexer": "ipython3",
   "version": "3.11.7"
  }
 },
 "nbformat": 4,
 "nbformat_minor": 5
}
