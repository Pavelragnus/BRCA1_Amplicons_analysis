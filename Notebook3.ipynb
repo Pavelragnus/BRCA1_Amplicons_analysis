{
 "cells": [
  {
   "cell_type": "code",
   "execution_count": 36,
   "id": "1f6387ac-d8a2-4d9a-bcfc-983b4a7f7aa1",
   "metadata": {},
   "outputs": [
    {
     "name": "stdout",
     "output_type": "stream",
     "text": [
      "Среднее покрытие: 536.701 \n",
      "Стандартное отклонение: 200.7652 \n",
      "Коэффициент вариации (CV): 0.3740727 \n",
      "Процент покрытых позиций (20% от среднего): 97.4359 % \n"
     ]
    }
   ],
   "source": [
    "# Чтение данных покрытия\n",
    "coverage_data <- read.table(\"S1/S1_cover_mean.bedgraph\", header=FALSE)\n",
    "\n",
    "# Назначение имен колонкам\n",
    "names(coverage_data) <- c(\"chr\", \"start\", \"end\", \"amplicon_id\", \"base_pos\", \"coverage\")\n",
    "\n",
    "# Вычисление среднего покрытия\n",
    "mean_coverage <- mean(coverage_data$coverage)\n",
    "\n",
    "# Вычисление стандартного отклонения\n",
    "sd_coverage <- sd(coverage_data$coverage)\n",
    "\n",
    "# Коэффициент вариации (CV)\n",
    "cv <- sd_coverage / mean_coverage\n",
    "\n",
    "# Показатель 20%/80%\n",
    "threshold <- 0.2 * mean_coverage\n",
    "percentage_above_threshold <- sum(coverage_data$coverage >= threshold) / nrow(coverage_data) * 100\n",
    "\n",
    "cat(\"Среднее покрытие:\", mean(coverage_data$coverage), \"\\n\")\n",
    "cat(\"Стандартное отклонение:\", sd_coverage, \"\\n\")\n",
    "cat(\"Коэффициент вариации (CV):\", cv, \"\\n\")\n",
    "cat(\"Процент покрытых позиций (20% от среднего):\", percentage_above_threshold, \"%\", \"\\n\")\n"
   ]
  },
  {
   "cell_type": "code",
   "execution_count": 25,
   "id": "318259e9-a3f7-4f43-8cc8-ccd7c20882f6",
   "metadata": {},
   "outputs": [
    {
     "data": {
      "text/html": [
       "536.701035130769"
      ],
      "text/latex": [
       "536.701035130769"
      ],
      "text/markdown": [
       "536.701035130769"
      ],
      "text/plain": [
       "[1] 536.701"
      ]
     },
     "metadata": {},
     "output_type": "display_data"
    }
   ],
   "source": [
    "mean_coverage"
   ]
  },
  {
   "cell_type": "code",
   "execution_count": 12,
   "id": "9daebb04-aaa7-44ec-a166-abc0395ac401",
   "metadata": {},
   "outputs": [
    {
     "name": "stdout",
     "output_type": "stream",
     "text": [
      "Среднее покрытие: 773.6397 \n",
      "Стандартное отклонение: 256.9479 \n",
      "Коэффициент вариации (CV): 0.3321287 \n",
      "Процент покрытых позиций (20% от среднего): 97.4359 % \n"
     ]
    }
   ],
   "source": [
    "# Чтение данных покрытия\n",
    "coverage_data <- read.table(\"S12/S12_cover_mean.bedgraph\", header=FALSE)\n",
    "\n",
    "# Назначение имен колонкам\n",
    "names(coverage_data) <- c(\"chr\", \"start\", \"end\", \"amplicon_id\", \"base_pos\", \"coverage\")\n",
    "\n",
    "# Вычисление среднего покрытия\n",
    "mean_coverage <- mean(coverage_data$coverage)\n",
    "\n",
    "# Вычисление стандартного отклонения\n",
    "sd_coverage <- sd(coverage_data$coverage)\n",
    "\n",
    "# Коэффициент вариации (CV)\n",
    "cv <- sd_coverage / mean_coverage\n",
    "\n",
    "# Показатель 20%/80%\n",
    "threshold <- 0.2 * mean_coverage\n",
    "percentage_above_threshold <- sum(coverage_data$coverage >= threshold) / nrow(coverage_data) * 100\n",
    "\n",
    "cat(\"Среднее покрытие:\", mean_coverage, \"\\n\")\n",
    "cat(\"Стандартное отклонение:\", sd_coverage, \"\\n\")\n",
    "cat(\"Коэффициент вариации (CV):\", cv, \"\\n\")\n",
    "cat(\"Процент покрытых позиций (20% от среднего):\", percentage_above_threshold, \"%\", \"\\n\")\n"
   ]
  },
  {
   "cell_type": "code",
   "execution_count": 14,
   "id": "6e242431-4305-4d09-8e6e-f1ab2348611e",
   "metadata": {},
   "outputs": [
    {
     "name": "stdout",
     "output_type": "stream",
     "text": [
      "Среднее покрытие: 342.0486 \n",
      "Стандартное отклонение: 301.485 \n",
      "Коэффициент вариации (CV): 0.8814099 \n",
      "Процент покрытых позиций (20% от среднего): 82.05128 % \n"
     ]
    }
   ],
   "source": [
    "# Чтение данных покрытия\n",
    "coverage_data <- read.table(\"S6/S6_cover_mean.bedgraph\", header=FALSE)\n",
    "\n",
    "# Назначение имен колонкам\n",
    "names(coverage_data) <- c(\"chr\", \"start\", \"end\", \"amplicon_id\", \"base_pos\", \"coverage\")\n",
    "\n",
    "# Вычисление среднего покрытия\n",
    "mean_coverage <- mean(coverage_data$coverage)\n",
    "\n",
    "# Вычисление стандартного отклонения\n",
    "sd_coverage <- sd(coverage_data$coverage)\n",
    "\n",
    "# Коэффициент вариации (CV)\n",
    "cv <- sd_coverage / mean_coverage\n",
    "\n",
    "# Показатель 20%/80%\n",
    "threshold <- 0.2 * mean_coverage\n",
    "percentage_above_threshold <- sum(coverage_data$coverage >= threshold) / nrow(coverage_data) * 100\n",
    "\n",
    "cat(\"Среднее покрытие:\", mean_coverage, \"\\n\")\n",
    "cat(\"Стандартное отклонение:\", sd_coverage, \"\\n\")\n",
    "cat(\"Коэффициент вариации (CV):\", cv, \"\\n\")\n",
    "cat(\"Процент покрытых позиций (20% от среднего):\", percentage_above_threshold, \"%\", \"\\n\")\n"
   ]
  },
  {
   "cell_type": "code",
   "execution_count": 16,
   "id": "536a8516-fe18-4a0a-ba08-bdc01a0e3ad3",
   "metadata": {},
   "outputs": [
    {
     "name": "stdout",
     "output_type": "stream",
     "text": [
      "Среднее покрытие: 463.7138 \n",
      "Стандартное отклонение: 162.6143 \n",
      "Коэффициент вариации (CV): 0.3506782 \n",
      "Процент покрытых позиций (20% от среднего): 98.71795 % \n"
     ]
    }
   ],
   "source": [
    "# Чтение данных покрытия\n",
    "coverage_data <- read.table(\"S8/S8_cover_mean.bedgraph\", header=FALSE)\n",
    "\n",
    "# Назначение имен колонкам\n",
    "names(coverage_data) <- c(\"chr\", \"start\", \"end\", \"amplicon_id\", \"base_pos\", \"coverage\")\n",
    "\n",
    "# Вычисление среднего покрытия\n",
    "mean_coverage <- mean(coverage_data$coverage)\n",
    "\n",
    "# Вычисление стандартного отклонения\n",
    "sd_coverage <- sd(coverage_data$coverage)\n",
    "\n",
    "# Коэффициент вариации (CV)\n",
    "cv <- sd_coverage / mean_coverage\n",
    "\n",
    "# Показатель 20%/80%\n",
    "threshold <- 0.2 * mean_coverage\n",
    "percentage_above_threshold <- sum(coverage_data$coverage >= threshold) / nrow(coverage_data) * 100\n",
    "\n",
    "cat(\"Среднее покрытие:\", mean_coverage, \"\\n\")\n",
    "cat(\"Стандартное отклонение:\", sd_coverage, \"\\n\")\n",
    "cat(\"Коэффициент вариации (CV):\", cv, \"\\n\")\n",
    "cat(\"Процент покрытых позиций (20% от среднего):\", percentage_above_threshold, \"%\", \"\\n\")\n"
   ]
  },
  {
   "cell_type": "code",
   "execution_count": null,
   "id": "53470659-3b8d-47f9-a5e2-3e1b6f15b81b",
   "metadata": {},
   "outputs": [],
   "source": []
  }
 ],
 "metadata": {
  "kernelspec": {
   "display_name": "R",
   "language": "R",
   "name": "ir"
  },
  "language_info": {
   "codemirror_mode": "r",
   "file_extension": ".r",
   "mimetype": "text/x-r-source",
   "name": "R",
   "pygments_lexer": "r",
   "version": "4.2.3"
  }
 },
 "nbformat": 4,
 "nbformat_minor": 5
}
